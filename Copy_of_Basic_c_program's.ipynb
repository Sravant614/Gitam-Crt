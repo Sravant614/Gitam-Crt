{
  "nbformat": 4,
  "nbformat_minor": 0,
  "metadata": {
    "kernelspec": {
      "display_name": "Python 3",
      "language": "python",
      "name": "python3"
    },
    "language_info": {
      "codemirror_mode": {
        "name": "ipython",
        "version": 3
      },
      "file_extension": ".py",
      "mimetype": "text/x-python",
      "name": "python",
      "nbconvert_exporter": "python",
      "pygments_lexer": "ipython3",
      "version": "3.7.0"
    },
    "colab": {
      "name": "Copy of Basic c program's.ipynb",
      "provenance": [],
      "collapsed_sections": []
    }
  },
  "cells": [
    {
      "cell_type": "markdown",
      "metadata": {
        "id": "Cvuj8kTuQ3xY",
        "colab_type": "text"
      },
      "source": [
        "#1.Read input as number and print the output as yes or no if dividble by 3 and 5."
      ]
    },
    {
      "cell_type": "code",
      "metadata": {
        "id": "R059Q2Y9OyTU",
        "colab_type": "code",
        "colab": {}
      },
      "source": [
        "#include<stdio.h>\n",
        "main()\n",
        "{\n",
        "\tint x;\n",
        "    printf(\"Enter number:\");\n",
        "    scanf(\"%d\",&x);\n",
        "if(x%3==0 && x%5==0)\n",
        "{\n",
        "printf(\"YES\");\n",
        "}\n",
        "else\n",
        "{\n",
        "\tprintf(\"No\");\n",
        "}\n",
        "}"
      ],
      "execution_count": 0,
      "outputs": []
    },
    {
      "cell_type": "markdown",
      "metadata": {
        "id": "zY4l1ykUQ-dr",
        "colab_type": "text"
      },
      "source": [
        "# 2.Read a character as input and print as \"upper case\",\"Lower case\",\"digit\".\n",
        "    test case:\n",
        "    A--Upper\n",
        "    z--lower\n",
        "    8--digit"
      ]
    },
    {
      "cell_type": "code",
      "metadata": {
        "id": "Kdurpr_POyTa",
        "colab_type": "code",
        "colab": {}
      },
      "source": [
        "#include<stdio.h>\n",
        "main()\n",
        "{\n",
        "\tchar x;\n",
        "    printf(\"Enter a Character:\");\n",
        "    scanf(\"%c\",&x);\n",
        "if(x >= 65 and x <= 90) \n",
        "{\n",
        "printf(\"Upper case\");\n",
        "}\n",
        "else if(x >= 97 and x <= 122)\n",
        "{\n",
        "\tprintf(\"Lower case\");\n",
        "}\n",
        "else \n",
        "{\n",
        "\tprintf(\"Digit\");\n",
        "}\n",
        "}"
      ],
      "execution_count": 0,
      "outputs": []
    },
    {
      "cell_type": "code",
      "metadata": {
        "id": "bXR2UaWbOyTc",
        "colab_type": "code",
        "colab": {}
      },
      "source": [
        "#Switch\n",
        "#include<stdio.h>\n",
        "main()\n",
        "{\n",
        "\tchar n;\n",
        "    printf(\"Enter character:\");\n",
        "    scanf(\"%c\",&n);\n",
        "switch(n)\n",
        "{\n",
        "case 'a':printf(\"Vowel\");\n",
        "break;\n",
        "case 'e':printf(\"Vowel\");\n",
        "break;\n",
        "case 'i':printf(\"Vowel\");\n",
        "break;\n",
        "case 'u':printf(\"Vowel\");\n",
        "break;\n",
        "case 'o':printf(\"Vowel\");\n",
        "break;\n",
        "default :\n",
        "printf(\"Consonant\");\n",
        "break;\n",
        "}\n",
        "}"
      ],
      "execution_count": 0,
      "outputs": []
    },
    {
      "cell_type": "markdown",
      "metadata": {
        "id": "vegZ2YvSRYer",
        "colab_type": "text"
      },
      "source": [
        "# 3.read input as character and print the output as \"vowel\" or \"consonant\""
      ]
    },
    {
      "cell_type": "code",
      "metadata": {
        "id": "-V9j-8DCRVo3",
        "colab_type": "code",
        "colab": {}
      },
      "source": [
        "include<stdio.h>\n",
        "main() \n",
        "{ \n",
        "    char x;\n",
        "  printf(\"Enter a Character:\"); \n",
        " scanf(\"%c\",&x); \n",
        " if(x=='a'||x=='e'|| x=='i'||x=='o'||x=='u') \n",
        " {\n",
        "      printf(\"Vowel\");\n",
        "   } \n",
        " else \n",
        " {\n",
        "      printf(\"Consonant\");\n",
        "   } \n",
        " }"
      ],
      "execution_count": 0,
      "outputs": []
    },
    {
      "cell_type": "markdown",
      "metadata": {
        "id": "L4F-4PFqREXk",
        "colab_type": "text"
      },
      "source": [
        "# 4.Read numbers 1 to 7 and print as week of day"
      ]
    },
    {
      "cell_type": "code",
      "metadata": {
        "id": "z3Umn6mvOyTl",
        "colab_type": "code",
        "colab": {}
      },
      "source": [
        "#include<stdio.h>\n",
        "main()\n",
        "{\n",
        "\tint n;\n",
        "    printf(\"Enter number:\");\n",
        "    scanf(\"%d\",&n);\n",
        "switch(n)\n",
        "{\n",
        "case 1:printf(\"Sunday\");\n",
        "break;\n",
        "case 2:printf(\"Monday\");\n",
        "break;\n",
        "case 3:printf(\"Tue\");\n",
        "break;\n",
        "case 4:printf(\"Wed\");\n",
        "break;\n",
        "case 5:printf(\"Thur\");\n",
        "break;\n",
        "case 6:printf(\"Fri\");\n",
        "break;\n",
        "case 7:printf(\"Sat\");\n",
        "break;\n",
        "}\n",
        "}"
      ],
      "execution_count": 0,
      "outputs": []
    },
    {
      "cell_type": "code",
      "metadata": {
        "id": "vZSSoYZzOyTq",
        "colab_type": "code",
        "colab": {}
      },
      "source": [
        "#include<stdio.h>\n",
        "main()\n",
        "{\n",
        "\tint x,y,z;\n",
        "    printf(\"Enter number:\");\n",
        "    scanf(\"%d %d %d\");\n",
        "if(x>y && x>z)\n",
        "{\n",
        "printf(\"%d\",(y*z));\n",
        "}\n",
        "else if(y>x&&y>z)\n",
        "{\n",
        "printf(\"%d\",(x*z));\n",
        "}\n",
        "else \n",
        "{\n",
        "printf(\"%d\",(x*y));\n",
        "}\n",
        "}"
      ],
      "execution_count": 0,
      "outputs": []
    },
    {
      "cell_type": "markdown",
      "metadata": {
        "id": "3JWg6P0fVYrB",
        "colab_type": "text"
      },
      "source": [
        "#DAY-9"
      ]
    },
    {
      "cell_type": "markdown",
      "metadata": {
        "id": "k9Nes5b1Rkm6",
        "colab_type": "text"
      },
      "source": [
        "# 5.Read a number as input and print the digits."
      ]
    },
    {
      "cell_type": "code",
      "metadata": {
        "id": "ZJs_18FtOyTu",
        "colab_type": "code",
        "colab": {}
      },
      "source": [
        "#include<stdio.h>\n",
        "main()\n",
        "{\n",
        "\tint n,x;\n",
        "    printf(\"Enter number:\");\n",
        "    scanf(\"%d\",&n);\n",
        "    while(n!=0)\n",
        "    {\n",
        "    \tx=n%10;\n",
        "    \tprintf(\"%d\",x);\n",
        "    \tn=n/10;\n",
        "\t}\n",
        "}"
      ],
      "execution_count": 0,
      "outputs": []
    },
    {
      "cell_type": "markdown",
      "metadata": {
        "id": "F86-PNoKR3aE",
        "colab_type": "text"
      },
      "source": [
        "#6. read the number as input and read the output as large digits of number.\n",
        " Test case:\n",
        " - 89261--9\n",
        " - 15762--7"
      ]
    },
    {
      "cell_type": "code",
      "metadata": {
        "id": "SxsTsY1JSGrg",
        "colab_type": "code",
        "colab": {}
      },
      "source": [
        "#include<stdio.h>\n",
        "main()\n",
        "{\n",
        "\tint n,rem,max;\n",
        "\tscanf(\"%d\",&n);\n",
        "\twhile(n!=0)\n",
        "\t{\n",
        "\t\trem=n%10;\n",
        "\t\tif(max<rem)\n",
        "\t\t{\n",
        "\t\t\tmax=rem;\n",
        "\t\t}\n",
        "\t\tn=n/10;\n",
        "\t}\n",
        "\tprintf(\"Largest number is :%d\",max);\n",
        "}"
      ],
      "execution_count": 0,
      "outputs": []
    },
    {
      "cell_type": "markdown",
      "metadata": {
        "id": "DGC40zvKU7C1",
        "colab_type": "text"
      },
      "source": [
        "#7.Read the input and print the output as largest digit from last three position.\n",
        " test case:\n",
        " - 89261--6\n",
        " - 97862--8"
      ]
    },
    {
      "cell_type": "code",
      "metadata": {
        "id": "H8xb3zhEVXQz",
        "colab_type": "code",
        "colab": {}
      },
      "source": [
        "#include<stdio.h>\n",
        "main()\n",
        "{\n",
        "\tint n,rem,max,count=3;\n",
        "\tscanf(\"%d\",&n);\n",
        "\twhile(count!=0)\n",
        "\t{\n",
        "\t\trem=n%10;\n",
        "\t\tif(max<rem)\n",
        "\t\t{\n",
        "\t\t\tmax=rem;\n",
        "\t\t}\n",
        "\t\tn=n/10;\n",
        "\t\tcount--;\n",
        "\t}\n",
        "\tprintf(\"Largest number is :%d\",max);\n",
        "}"
      ],
      "execution_count": 0,
      "outputs": []
    },
    {
      "cell_type": "markdown",
      "metadata": {
        "id": "G_w2ngkBYDMX",
        "colab_type": "text"
      },
      "source": [
        "#8.Read the number as input and print as output as following:\\\n",
        " Test case:\n",
        " - 89261--<1,9>\n",
        " -97268--<2,9>"
      ]
    },
    {
      "cell_type": "code",
      "metadata": {
        "id": "m1QHKx78YW6u",
        "colab_type": "code",
        "colab": {}
      },
      "source": [
        "#include<stdio.h>\n",
        "main()\n",
        "{\n",
        "\tint n,rem,min=9,max;\n",
        "\tscanf(\"%d\",&n);\n",
        "\twhile(n!=0)\n",
        "\t{\n",
        "\t\trem=n%10;\n",
        "\t\tif(max<rem)\n",
        "\t\t{\n",
        "\t\t\tmax=rem;\n",
        "\t\t}\n",
        "\t\tn=n/10;\n",
        "\t}\n",
        "\tif(min>rem)\n",
        "\t\t{\n",
        "\t\t\tmin=rem;\n",
        "\t\t}\n",
        "\tprintf(\"<%d,%d>\",min,max);\n",
        "}"
      ],
      "execution_count": 0,
      "outputs": []
    },
    {
      "cell_type": "markdown",
      "metadata": {
        "id": "0MyIU10AbbMi",
        "colab_type": "text"
      },
      "source": [
        "#9.Read number as input and read the output as :\n",
        "test case:\n",
        "- 145--five four one\n",
        "- 1502--two zero five one"
      ]
    },
    {
      "cell_type": "code",
      "metadata": {
        "id": "S_C-syJdbugR",
        "colab_type": "code",
        "colab": {}
      },
      "source": [
        "#include<stdio.h>\n",
        "main()\n",
        "{\n",
        "\tint x,n;\n",
        "    printf(\"Enter number:\");\n",
        "    scanf(\"%d\",&x);\n",
        "    while(x!=0)\n",
        "{\n",
        "\tn=x%10;\n",
        "switch(n)\n",
        "{\n",
        "case 0:printf(\"zero \");\n",
        "break;\n",
        "case 1:printf(\"one \");\n",
        "break;\n",
        "case 2:printf(\"two \");\n",
        "break;\n",
        "case 3:printf(\"Three \");\n",
        "break;\n",
        "case 4:printf(\"Four \");\n",
        "break;\n",
        "case 5:printf(\"Five \");\n",
        "break;\n",
        "case 6:printf(\"Six \");\n",
        "break;\n",
        "case 7:printf(\"Seven \");\n",
        "break;\n",
        "case 8:printf(\"Eight \");\n",
        "break;\n",
        "case 9:printf(\"Nine \");\n",
        "break;\n",
        "}\n",
        "x=x/10;\n",
        "}\n",
        "}"
      ],
      "execution_count": 0,
      "outputs": []
    },
    {
      "cell_type": "markdown",
      "metadata": {
        "id": "uec8XPv4emtA",
        "colab_type": "text"
      },
      "source": [
        "#10.Read input asnumber and print the output as sum of even numbers:\n",
        "test case:\n",
        "- 1889--16"
      ]
    },
    {
      "cell_type": "code",
      "metadata": {
        "id": "GNM_3niXgvHw",
        "colab_type": "code",
        "colab": {}
      },
      "source": [
        "#include<stdio.h>\n",
        "main()\n",
        "{\n",
        "\tint sum=0,x,n;\n",
        "    scanf(\"%d\",&x);\n",
        "    while(x!=0)\n",
        "{\n",
        "\tn=x%10;\n",
        "\tif(n%2==0)\n",
        "\t{\n",
        "\t\tsum=sum+n;\n",
        "\t}\n",
        "\tx=x/10;\n",
        "}\n",
        "printf(\"sum is:%d\",sum);\n",
        "}"
      ],
      "execution_count": 0,
      "outputs": []
    },
    {
      "cell_type": "markdown",
      "metadata": {
        "id": "MWSpE-Y4h2P-",
        "colab_type": "text"
      },
      "source": [
        "#11.Factors of a number.\n",
        "test case:\n",
        "- 6--1 2 3 6"
      ]
    },
    {
      "cell_type": "code",
      "metadata": {
        "id": "E2UDQlN2h1al",
        "colab_type": "code",
        "colab": {}
      },
      "source": [
        "#include<stdio.h>\n",
        "main()\n",
        "{\n",
        "\tint x,n,i;\n",
        "    scanf(\"%d\",&x);\n",
        "    for(i=1;i<x;i++)\n",
        "    {\n",
        "\t   if(x%i==0)\n",
        "    {\n",
        "    \tprintf(\"%d\\t\",i);\n",
        "\t}\n",
        "\t}\n",
        "}"
      ],
      "execution_count": 0,
      "outputs": []
    },
    {
      "cell_type": "markdown",
      "metadata": {
        "id": "_QPPbX1IkXBg",
        "colab_type": "text"
      },
      "source": [
        "#12.Test case:\n",
        "- 1889 -- 5\n",
        "- 12364 -- 2\n",
        "- 1277 --0\n",
        "-1591 -- 1"
      ]
    },
    {
      "cell_type": "code",
      "metadata": {
        "id": "m5twRQ_ikXlw",
        "colab_type": "code",
        "colab": {}
      },
      "source": [
        "#include<stdio.h>\n",
        "main()\n",
        "{\n",
        "\tint x,rem,sum=0;\n",
        "    scanf(\"%d\",&x);\n",
        "    while(x!=0)\n",
        "    {\n",
        "    \trem=x%10;\n",
        "    \tswitch(rem)\n",
        "{\n",
        "\n",
        "case 0:sum=sum+1;//circle\n",
        "break;\n",
        "case 4:sum=sum+1;//triangle\n",
        "break;\n",
        "case 6:sum=sum+1;\n",
        "break;\n",
        "case 8:sum=sum+2;//2 circles\n",
        "break;\n",
        "case 9:sum=sum+1;\n",
        "break;\n",
        "}\n",
        "x=x/10;\n",
        "\t}\n",
        "\tprintf(\"%d\",sum);\n",
        "}"
      ],
      "execution_count": 0,
      "outputs": []
    },
    {
      "cell_type": "code",
      "metadata": {
        "id": "RuIYevKNpCeH",
        "colab_type": "code",
        "colab": {}
      },
      "source": [
        "#13.Palindrome -yes\n",
        "else-no"
      ],
      "execution_count": 0,
      "outputs": []
    },
    {
      "cell_type": "code",
      "metadata": {
        "id": "uGeQVNJgpGdR",
        "colab_type": "code",
        "colab": {}
      },
      "source": [
        "#include<stdio.h>\n",
        "main()\n",
        "{\n",
        "\tint n,x,rem,rev=0;\n",
        "    scanf(\"%d\",&x);\n",
        "    n=x;\n",
        "    while(x!=0)\n",
        "    {\n",
        "    rem=x%10;\n",
        "    rev=rev*10+rem;\n",
        "    x=x/10;\n",
        "\t}\n",
        "\tif(n==rev)\n",
        "\t{\n",
        "\t\tprintf(\"palindrome\");\n",
        "\t}\n",
        "\telse\n",
        "\t{\n",
        "\t\tprintf(\"not\");\n",
        "\t}\n",
        "}"
      ],
      "execution_count": 0,
      "outputs": []
    },
    {
      "cell_type": "markdown",
      "metadata": {
        "id": "od-tBprXquRm",
        "colab_type": "text"
      },
      "source": [
        "#14.reverse number and check prime\n",
        "- Yes-prime\n",
        "- no-not\n"
      ]
    },
    {
      "cell_type": "code",
      "metadata": {
        "id": "EIwCGuHFrOJN",
        "colab_type": "code",
        "colab": {}
      },
      "source": [
        "#include<stdio.h>\n",
        "main()\n",
        "{\n",
        "\tint n,x,rem,rev=0;\n",
        "    scanf(\"%d\",&x);\n",
        "    n=x;\n",
        "    while(x!=0)\n",
        "    {\n",
        "    rem=x%10;\n",
        "    rev=rev*10+rem;\n",
        "    x=x/10;\n",
        "\t}\n",
        "\tif(n%1==0 && n%n==0 && rev%1==0 && rev%rev==0)\n",
        "\t{\n",
        "\t\tprintf(\"Yes\");\n",
        "\t}\n",
        "\telse\n",
        "\t{\n",
        "\t\tprintf(\"no\");\n",
        "\t}\n",
        "}"
      ],
      "execution_count": 0,
      "outputs": []
    },
    {
      "cell_type": "code",
      "metadata": {
        "id": "muXoV8ujxVhg",
        "colab_type": "code",
        "colab": {}
      },
      "source": [
        "//with using functions\n",
        "#include<stdio.h>\n",
        "int reverse(int a)\n",
        "{\n",
        "int rem,rev;\n",
        "while(a!=0)\n",
        "{\n",
        "rem=a%10;\n",
        "rev=rev*10+rem;\n",
        "a=a/10;\n",
        "}\n",
        "return rev;\n",
        "}\n",
        "\n",
        "int isPrime(int a)\n",
        "{\n",
        "int i;\n",
        "for(i=2;i<=a/2;i++)\n",
        "{\n",
        "if(a%i==0)\n",
        "{\n",
        "return 1;\n",
        "}\n",
        "}\n",
        "return 0;\n",
        "}\n",
        "\n",
        "int main()\n",
        "{\n",
        "int x,rem,max=0,rev,n,i,count=0,n1,n2;\n",
        "scanf(\"%d\",&x);\n",
        "n=x;\n",
        "rev=reverse(x);\n",
        "n1=isPrime(n);\n",
        "n2=isPrime(rev);\n",
        "\n",
        "if(n1==0 && n2==0)\n",
        "{\n",
        "printf(\"yes\");\n",
        "}\n",
        "else\n",
        "{\n",
        "printf(\"no\");\n",
        "}\n",
        "return 0;\n",
        "}\n"
      ],
      "execution_count": 0,
      "outputs": []
    },
    {
      "cell_type": "markdown",
      "metadata": {
        "id": "wU-89LjS5ldM",
        "colab_type": "text"
      },
      "source": [
        "#15.Limit of Even palindrom\n",
        "test case:\n",
        "- 10"
      ]
    },
    {
      "cell_type": "code",
      "metadata": {
        "id": "gqMKNv_g5l5o",
        "colab_type": "code",
        "colab": {}
      },
      "source": [
        "#include<stdio.h>\n",
        "int ispalindrome(int x)\n",
        "{\n",
        "\tint rev=0,buffer=x;\n",
        "\twhile(x!=0)\n",
        "\t{\n",
        "\t\trev=rev*10+(x%10);\n",
        "\t\tx=x/10;\n",
        "\t}\n",
        "\tif(rev==buffer)\n",
        "\t{\n",
        "\t\treturn 1;\n",
        "\t}\n",
        "\telse\n",
        "\t{\n",
        "\t\treturn 0;\n",
        "\t}\n",
        "}\n",
        "int main()\n",
        "{\n",
        "\tint x1,x2,i,a,cnt=0;\n",
        "\tscanf(\"%d%d\",&x1,&x2);\n",
        "\tfor(i=x1;i<+x2;i++)\n",
        "\t{\n",
        "\t\tif(i%2==0)\n",
        "\t\t{\n",
        "\t\t\ta=ispalindrome(i);\n",
        "\t\t\tif(a==1)\n",
        "\t\t\t{\n",
        "\t\t\t\tcnt++;\n",
        "\t\t\t}\n",
        "\t\t}\n",
        "\t}\n",
        "\tprintf(\"%d\",cnt);\n",
        "\treturn 0;\n",
        "}"
      ],
      "execution_count": 0,
      "outputs": []
    },
    {
      "cell_type": "markdown",
      "metadata": {
        "id": "K_G637TTl72s",
        "colab_type": "text"
      },
      "source": [
        "#Read input and print yes if sum of factors of given number is same \n",
        "test case:\n",
        "- 145 -- yes(5!+4!+1!)\n",
        "- 123 --no"
      ]
    },
    {
      "cell_type": "code",
      "metadata": {
        "id": "3PDuomxPl8Bd",
        "colab_type": "code",
        "colab": {}
      },
      "source": [
        "#include<stdio.h>\n",
        "int fact(int n);\n",
        "int reverse(int rev);\n",
        "int main()\n",
        "{\n",
        "int count=0,x=0,i,sum=0,rem=0,n,t;\n",
        "\n",
        "scanf(\"%d\",&n);\n",
        "t=n;\n",
        "while(n!=0)\n",
        "{\n",
        "rem=n%10;\n",
        "x=fact(rem);\n",
        "\n",
        "sum=sum+x;\n",
        "\n",
        "n=n/10;\n",
        "}\n",
        "if(sum==t)\n",
        "{\n",
        "\n",
        "printf(\"yes\");\n",
        "\n",
        "}\n",
        "else\n",
        "{\n",
        "printf(\"no\");\n",
        "}\n",
        "return 0;\n",
        "}\n",
        "\n",
        "int fact(int n)\n",
        "{\n",
        "int fact=1,i;\n",
        "for(i=n;i>0;i--)\n",
        "{\n",
        "fact=fact*i;\n",
        "}\n",
        "\n",
        "return fact;\n",
        "}\n"
      ],
      "execution_count": 0,
      "outputs": []
    },
    {
      "cell_type": "markdown",
      "metadata": {
        "id": "RWVmeoXPmjEb",
        "colab_type": "text"
      },
      "source": [
        "123 --\n",
        "- $\"***\"\n",
        "- $**\n",
        "- $*"
      ]
    },
    {
      "cell_type": "markdown",
      "metadata": {
        "id": "DauJ8UBWqKOM",
        "colab_type": "text"
      },
      "source": [
        "#include<stdio.h>\n",
        "int print(int n);\n",
        "int main()\n",
        "{\n",
        "int x=0,i,sum=0,rem=0,n,t;\n",
        "scanf(\"%d\",&n);\n",
        "while(n!=0)\n",
        "{\n",
        "rem=n%10;\n",
        "printf(\"$\");\n",
        "print(rem);\n",
        "printf(\"\\n\");\n",
        "n=n/10;\n",
        "}\n",
        "\n",
        "}\n",
        "int print(int n)\n",
        "{\n",
        "int i;\n",
        "for(i=n;i>0;i--)\n",
        "{\n",
        "printf(\"*\");\n",
        "}\n",
        "}"
      ]
    },
    {
      "cell_type": "markdown",
      "metadata": {
        "id": "2VLtdnDrqeC8",
        "colab_type": "text"
      },
      "source": [
        "#Read the number and sum of the power of the single digits given\n",
        "test case:\n",
        "- 121 -10\n",
        "- 1221 -34 "
      ]
    },
    {
      "cell_type": "code",
      "metadata": {
        "id": "hC0abT_0tsoW",
        "colab_type": "code",
        "colab": {}
      },
      "source": [
        "#include<stdio.h>\n",
        "#include<math.h>\n",
        "int main()\n",
        "{\n",
        "\tint n,t,rem=0,sum=0,count=0;\n",
        "\tscanf(\"%d\",&n);\n",
        "\tt=n;\n",
        "\twhile(n!=0)\n",
        "\t{\n",
        "\trem=n%10;\n",
        "\tcount++;\n",
        "\tn=n/10;\t\n",
        "\t}\n",
        "\twhile(t!=0)\n",
        "\t{\n",
        "\trem=t%10;\n",
        "\tsum=sum+pow(rem,count);\n",
        "\tt=t/10;\t\n",
        "\t}\n",
        "\tprintf(\"%d\",sum);\n",
        "}"
      ],
      "execution_count": 0,
      "outputs": []
    },
    {
      "cell_type": "markdown",
      "metadata": {
        "id": "DhQ4a_aoudnd",
        "colab_type": "text"
      },
      "source": [
        "#Array"
      ]
    },
    {
      "cell_type": "markdown",
      "metadata": {
        "id": "ujcfodKb0ceS",
        "colab_type": "text"
      },
      "source": [
        "Input:\n",
        "- 5\n",
        "- 1 2 3 4 5\n",
        "- output:\n",
        "0 1 0 1 0"
      ]
    },
    {
      "cell_type": "code",
      "metadata": {
        "id": "S_ix2dRD1Lti",
        "colab_type": "code",
        "colab": {}
      },
      "source": [
        "#include<stdio.h>\n",
        "main()\n",
        "{\n",
        "int n,a[100],i;\n",
        "scanf(\"%d\",&n);\n",
        "for(i=0;i<n;i++)\n",
        "{\n",
        "\tscanf(\"%d\",&a[i]);\n",
        "}\n",
        "for(i=0;i<n;i++)\n",
        "{\n",
        "\tif(a[i]%2==0)\n",
        "\t{\n",
        "\tprintf(\"1\",a[i]);\n",
        "    }\n",
        "\telse\n",
        "\t{\n",
        "\tprintf(\"0\",a[i]);\n",
        "\t}\n",
        "\t}\n",
        "}\n"
      ],
      "execution_count": 0,
      "outputs": []
    },
    {
      "cell_type": "markdown",
      "metadata": {
        "id": "QpLrUSOS2F23",
        "colab_type": "text"
      },
      "source": [
        "#print small and largest number in array."
      ]
    },
    {
      "cell_type": "code",
      "metadata": {
        "id": "_rRm3glG4qyD",
        "colab_type": "code",
        "colab": {}
      },
      "source": [
        "#include<stdio.h>\n",
        "main()\n",
        "{\n",
        "int n,a[100],i,large,small;\n",
        "scanf(\"%d\",&n);\n",
        "for(i=0;i<n;i++)\n",
        "{\n",
        "\tscanf(\"%d\",&a[i]);\n",
        "}\n",
        "large = small = a[0];\n",
        "for(i=0;i<n;i++)\n",
        "{\n",
        "if(large<a[i])\n",
        "{\n",
        "\tlarge=a[i];\n",
        "}\n",
        "if(small>a[i])\n",
        "{\n",
        "\tsmall=a[i];\n",
        "}\n",
        "}\n",
        "printf(\"<%d,%d>\",small,large);\n",
        "}\n"
      ],
      "execution_count": 0,
      "outputs": []
    },
    {
      "cell_type": "markdown",
      "metadata": {
        "id": "cVl7annb95LI",
        "colab_type": "text"
      },
      "source": [
        "#145\n",
        "- 1 _ 4 _  5"
      ]
    },
    {
      "cell_type": "code",
      "metadata": {
        "id": "yf1PxKZD93xn",
        "colab_type": "code",
        "colab": {}
      },
      "source": [
        "#include<stdio.h>\n",
        "main()\n",
        "{\n",
        "int n=0,x,a[100],i;\n",
        "scanf(\"%d\",&x);\n",
        "while(x!=0)\n",
        "{ \t\n",
        " a[n]=x%10;\n",
        "x /= 10;\n",
        "n++;\n",
        "}\n",
        "for(i=n-1;i>=0;i--)\n",
        "{\n",
        "\tprintf(\"%d \",a[i]);\n",
        "}\n",
        "}"
      ],
      "execution_count": 0,
      "outputs": []
    }
  ]
}